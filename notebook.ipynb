{
 "cells": [
  {
   "cell_type": "code",
   "execution_count": 22,
   "outputs": [],
   "source": [
    "import numpy as np\n",
    "import time"
   ],
   "metadata": {
    "collapsed": false,
    "pycharm": {
     "name": "#%%\n"
    }
   }
  },
  {
   "cell_type": "code",
   "execution_count": 87,
   "outputs": [],
   "source": [
    "class Tests:\n",
    "\n",
    "    # 1\n",
    "    @staticmethod\n",
    "    def Initialization():\n",
    "        start_time = time.time()\n",
    "        for i in range(100):\n",
    "            a = np.arange(0, 10**8)\n",
    "        init_time = time.time()\n",
    "\n",
    "        # code begins\n",
    "\n",
    "\n",
    "\n",
    "        # code ends\n",
    "\n",
    "        end_time = time.time()\n",
    "\n",
    "        print('Full time =', end_time - start_time)\n",
    "        print('Work time =', end_time - init_time)\n",
    "\n",
    "    @staticmethod\n",
    "    def make_reshaped():\n",
    "        start_time = time.time()\n",
    "        a = np.arange(0, 10**8).reshape(100, 100, 100, 100)\n",
    "        init_time = time.time()\n",
    "\n",
    "        # code begins\n",
    "        for i in range(1000000):\n",
    "            a.reshape((100, 100, 100, 100))\n",
    "        # code ends\n",
    "\n",
    "        end_time = time.time()\n",
    "\n",
    "        print('Full time =', end_time - start_time)\n",
    "        print('Work time =', end_time - init_time)\n",
    "        print(a.sum(axis=None))\n",
    "\n",
    "    @staticmethod\n",
    "    def random_uniform():\n",
    "        start_time = time.time()\n",
    "        init_time = time.time()\n",
    "\n",
    "        a = np.random.uniform(0, 10, (100, 100, 100, 100));\n",
    "\n",
    "        end_time = time.time()\n",
    "\n",
    "        print('Full time =', end_time - start_time)\n",
    "        print('Work time =', end_time - init_time)\n",
    "        print(a.sum(axis=None))\n"
   ],
   "metadata": {
    "collapsed": false,
    "pycharm": {
     "name": "#%%\n"
    }
   }
  },
  {
   "cell_type": "code",
   "execution_count": 88,
   "outputs": [
    {
     "name": "stdout",
     "output_type": "stream",
     "text": [
      "Full time = 2.026641368865967\n",
      "Work time = 2.026641368865967\n",
      "50003332\n"
     ]
    }
   ],
   "source": [
    "Tests.make_reshaped()"
   ],
   "metadata": {
    "collapsed": false,
    "pycharm": {
     "name": "#%%\n"
    }
   }
  },
  {
   "cell_type": "code",
   "execution_count": null,
   "outputs": [],
   "source": [],
   "metadata": {
    "collapsed": false,
    "pycharm": {
     "name": "#%%\n"
    }
   }
  }
 ],
 "metadata": {
  "kernelspec": {
   "display_name": "Python 3",
   "language": "python",
   "name": "python3"
  },
  "language_info": {
   "codemirror_mode": {
    "name": "ipython",
    "version": 2
   },
   "file_extension": ".py",
   "mimetype": "text/x-python",
   "name": "python",
   "nbconvert_exporter": "python",
   "pygments_lexer": "ipython2",
   "version": "2.7.6"
  }
 },
 "nbformat": 4,
 "nbformat_minor": 0
}